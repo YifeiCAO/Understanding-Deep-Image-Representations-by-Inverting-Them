{
 "cells": [
  {
   "cell_type": "raw",
   "metadata": {},
   "source": [
    "# Inversion of ConvNet for MNIST dataset"
   ]
  },
  {
   "cell_type": "code",
   "execution_count": 35,
   "metadata": {
    "collapsed": true
   },
   "outputs": [],
   "source": [
    "# Import necessary libraries.\n",
    "import tensorflow as tf\n",
    "from tensorflow import keras\n",
    "import numpy as np\n",
    "import pickle\n",
    "import matplotlib.pyplot as plt"
   ]
  },
  {
   "cell_type": "code",
   "execution_count": 49,
   "metadata": {
    "collapsed": true
   },
   "outputs": [],
   "source": [
    "mnist=keras.datasets.mnist\n",
    "(x_train,y_train), (x_test,y_test)=mnist.load_data()"
   ]
  },
  {
   "cell_type": "code",
   "execution_count": 50,
   "metadata": {
    "collapsed": true
   },
   "outputs": [],
   "source": [
    "x_train = x_train.reshape(x_train.shape[0], 28, 28,1).astype('float32')\n",
    "x_test = x_test.reshape(x_test.shape[0], 28, 28,1).astype('float32')\n",
    "x_train=x_train/255.0\n",
    "x_test=x_test/255.0\n",
    "y_train=keras.utils.to_categorical(y_train)\n",
    "y_test=keras.utils.to_categorical(y_test)"
   ]
  },
  {
   "cell_type": "code",
   "execution_count": 51,
   "metadata": {
    "collapsed": true
   },
   "outputs": [],
   "source": [
    "tf.set_random_seed(1) "
   ]
  },
  {
   "cell_type": "raw",
   "metadata": {},
   "source": [
    "# One important thing to note is that we have used average pooling instead of max pooling. It is seen that average pooling \n",
    "helps while reconstructing the output of convnet layer."
   ]
  },
  {
   "cell_type": "code",
   "execution_count": 52,
   "metadata": {
    "collapsed": true
   },
   "outputs": [],
   "source": [
    "kernels_1,bias_1=pickle.load(open(r\"...\\Average pooling\\layer_0.pkl\",\"rb\"))\n",
    "kernels_2,bias_2=pickle.load(open(r\"...\\Average pooling\\layer_2.pkl\",\"rb\"))\n",
    "kernels_3,bias_3=pickle.load(open(r\"...\\Average pooling\\layer_4.pkl\",\"rb\"))\n",
    "kernels_4,bias_4=pickle.load(open(r\"...\\Average pooling\\layer_6.pkl\",\"rb\"))"
   ]
  },
  {
   "cell_type": "raw",
   "metadata": {},
   "source": [
    "Instead of slicing the model, here the weights were saved and later loaded to get the same mo9del architecture. \n",
    "This has no special  purpose and is for purely experimental reasons. One can also get an intermediate layer of \n",
    "interest from convnet and reach the desired result as shown in following cell."
   ]
  },
  {
   "cell_type": "code",
   "execution_count": 53,
   "metadata": {},
   "outputs": [
    {
     "data": {
      "text/plain": [
       "\"\\nlayer_name = 'conv2d_28'\\nintermediate_layer_model = keras.Model(inputs=model.input,\\n                                 outputs=model.get_layer(layer_name).output)\\nintermediate_output = intermediate_layer_model.predict(x_train[0].reshape(1,28,28,1))\\n\""
      ]
     },
     "execution_count": 53,
     "metadata": {},
     "output_type": "execute_result"
    }
   ],
   "source": [
    "'''\n",
    "layer_name = 'conv2d_28'\n",
    "intermediate_layer_model = keras.Model(inputs=model.input,\n",
    "                                 outputs=model.get_layer(layer_name).output)\n",
    "intermediate_output = intermediate_layer_model.predict(x_train[0].reshape(1,28,28,1))\n",
    "'''"
   ]
  },
  {
   "cell_type": "raw",
   "metadata": {},
   "source": [
    " Constructing model layer by layer. Here we are going to reconstruct the input using feature maps of second convolutional layer."
   ]
  },
  {
   "cell_type": "code",
   "execution_count": 54,
   "metadata": {
    "collapsed": true
   },
   "outputs": [],
   "source": [
    "image_shape=(1,28,28,1)\n",
    "X=tf.Variable(tf.zeros(image_shape))\n",
    "conv1=tf.layers.conv2d(inputs=X,filters=4,kernel_size=[6, 6],padding=\"same\",strides=(1,1),activation=tf.nn.relu,\n",
    "    kernel_initializer=tf.constant_initializer(kernels_1),bias_initializer=tf.constant_initializer(bias_1),trainable=False)\n",
    "\n",
    "avg_pool1=tf.layers.average_pooling2d(inputs=conv1, pool_size=[5, 5],padding=\"valid\", strides=(1,1))\n",
    "\n",
    "conv2=tf.layers.conv2d(inputs=avg_pool1,filters=8,kernel_size=[4, 4],padding=\"same\",strides=(1,1),activation=tf.nn.relu,\n",
    "    kernel_initializer=tf.constant_initializer(kernels_2),bias_initializer=tf.constant_initializer(bias_2),trainable=False)"
   ]
  },
  {
   "cell_type": "code",
   "execution_count": 55,
   "metadata": {
    "collapsed": true
   },
   "outputs": [],
   "source": [
    "# Obtain the feature maps of second convolutional layer.\n",
    "X0=pickle.load(open(r\"\\second_conv.pkl\",\"rb\"))"
   ]
  },
  {
   "cell_type": "code",
   "execution_count": 56,
   "metadata": {
    "collapsed": true
   },
   "outputs": [],
   "source": [
    "# Configure the loss  to be minimized.Read research paper for more details on this\n",
    "l2_loss = tf.norm(X0-conv2, 'euclidean')/tf.norm(X0,'euclidean')\n",
    "\n",
    "total_variation_loss = tf.reduce_sum(tf.image.total_variation(tf.convert_to_tensor(x_train[0]+X)))\n",
    "sigma_tv = 5e-7\n",
    "loss = l2_loss + sigma_tv*total_variation_loss"
   ]
  },
  {
   "cell_type": "code",
   "execution_count": 58,
   "metadata": {
    "collapsed": true
   },
   "outputs": [],
   "source": [
    "train_step=tf.train.AdamOptimizer(learning_rate=0.01).minimize(loss)"
   ]
  },
  {
   "cell_type": "code",
   "execution_count": 59,
   "metadata": {},
   "outputs": [
    {
     "name": "stdout",
     "output_type": "stream",
     "text": [
      "Loss:  0.966622\n",
      "Loss:  0.000952072\n",
      "Loss:  0.000946103\n",
      "Loss:  0.000938554\n",
      "Loss:  0.000973007\n",
      "Loss:  0.000932628\n",
      "Loss:  0.000940508\n",
      "Loss:  0.000953627\n",
      "Loss:  0.000959222\n",
      "Loss:  0.00094654\n"
     ]
    }
   ],
   "source": [
    "with tf.Session() as sess:\n",
    "    sess.run(tf.global_variables_initializer())\n",
    "    #print(sess.run(X[0][0][0][0]))\n",
    "    for i in range(100000):\n",
    "        _, loss_value = sess.run([train_step,loss])\n",
    "        \n",
    "        if i % 10000 == 0:\n",
    "            #print(sess.run(X[0][0][0][0]))\n",
    "            print(\"Loss: \", loss_value)\n",
    "    #print(sess.run(X))\n",
    "    # Get the image after the iterations\n",
    "    O=sess.run(X)"
   ]
  },
  {
   "cell_type": "code",
   "execution_count": 34,
   "metadata": {},
   "outputs": [
    {
     "data": {
      "image/png": "[encoded data removed]",
      "text/plain": [
       "<Figure size 432x288 with 1 Axes>"
      ]
     },
     "metadata": {},
     "output_type": "display_data"
    }
   ],
   "source": [
    "# Original image\n",
    "plt.imshow(x_train[0].reshape(28,28),cmap=\"gray\")\n",
    "plt.show()"
   ]
  },
  {
   "cell_type": "code",
   "execution_count": 60,
   "metadata": {},
   "outputs": [
    {
     "data": {
      "image/png": "[encoded data removed]",
      "text/plain": [
       "<Figure size 432x288 with 1 Axes>"
      ]
     },
     "metadata": {},
     "output_type": "display_data"
    }
   ],
   "source": [
    "# Reconstructed image\n",
    "Ot=O.reshape(28,28)\n",
    "plt.imshow(Ot,cmap=\"gray\")\n",
    "plt.show()"
   ]
  }
 ],
 "metadata": {
  "kernelspec": {
   "display_name": "Python 3",
   "language": "python",
   "name": "python3"
  },
  "language_info": {
   "codemirror_mode": {
    "name": "ipython",
    "version": 3
   },
   "file_extension": ".py",
   "mimetype": "text/x-python",
   "name": "python",
   "nbconvert_exporter": "python",
   "pygments_lexer": "ipython3",
   "version": "3.6.1"
  }
 },
 "nbformat": 4,
 "nbformat_minor": 2
}
